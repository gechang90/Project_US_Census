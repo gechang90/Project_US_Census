{
 "cells": [
  {
   "cell_type": "code",
   "execution_count": 1,
   "metadata": {},
   "outputs": [],
   "source": [
    "#!pip install Census\n",
    "#!pip install us \n",
    "#!pip install plotly==4.1.0\n",
    "\n",
    "# Dependencies\n",
    "import numpy as np\n",
    "import pandas as pd\n",
    "import matplotlib.pyplot as plt\n",
    "import requests\n",
    "import us\n",
    "from census import Census\n",
    "from us import states"
   ]
  },
  {
   "cell_type": "code",
   "execution_count": 2,
   "metadata": {},
   "outputs": [],
   "source": [
    "# import api key\n",
    "from config import api_key\n",
    "#api_key\n"
   ]
  },
  {
   "cell_type": "code",
   "execution_count": 3,
   "metadata": {},
   "outputs": [],
   "source": [
    "# male and female data from census\n",
    "c18 = Census(api_key,year=2018)\n"
   ]
  },
  {
   "cell_type": "code",
   "execution_count": 4,
   "metadata": {},
   "outputs": [],
   "source": [
    "# function_1 to merge to dataframe\n",
    "def func_merge_df(df1, df2, column):\n",
    "    mf_df = pd.merge(df1, df2, on=column, how='inner')\n",
    "    return mf_df\n",
    "\n",
    "#function_1 to pull data and merge using function_1\n",
    "def func_getdata(key1, key2, jobtype):\n",
    "    male_data= []\n",
    "    female_data = []\n",
    "    state_dict = us.states.mapping('fips', 'name')\n",
    "    \n",
    "    male_data=c18.acs1.get(key1, {'for': 'state:*'})\n",
    "    female_data=c18.acs1.get(key2, {'for': 'state:*'})\n",
    "    m_pd = pd.DataFrame(male_data)\n",
    "    f_pd = pd.DataFrame(female_data)\n",
    "    # Merge the dataframe\n",
    "    mf_df = func_merge_df(df1=f_pd, df2=m_pd, column='state')\n",
    "    mf_df=mf_df.fillna(0)\n",
    "    # Get the total \n",
    "    mf_df[\"State Name\"] = ''\n",
    "    mf_df[\"Type\"] = ''\n",
    "    # Get the State name\n",
    "    for index, row in mf_df.iterrows():\n",
    "        mf_df.loc[index,'State Name'] = state_dict[mf_df.loc[index,'state']]\n",
    "        mf_df.loc[index,'Type'] = jobtype\n",
    "    return mf_df"
   ]
  },
  {
   "cell_type": "code",
   "execution_count": 5,
   "metadata": {},
   "outputs": [
    {
     "name": "stdout",
     "output_type": "stream",
     "text": [
      "Job Completed\n"
     ]
    }
   ],
   "source": [
    "# excute func_1and func_2 to obtain data clean the data and export to a csv file\n",
    "\n",
    "cnt = 0\n",
    "input_data=[{'Male':'B24040_007E','Female':'B24040_111E','jobtype':'Manufacturing'},\n",
    "           {'Male':'B24010_019E','Female':'B24010_170E','jobtype':'IT'},\n",
    "           {'Male':'B24010_037E','Female':'B24010_188E','jobtype':'Social Workers'},\n",
    "           {'Male':'B24010_017E','Female':'B24010_168E','jobtype':'Finance'}\n",
    "          ]\n",
    "input_df = pd.DataFrame(input_data)\n",
    "\n",
    "for index, row in input_df.iterrows(): \n",
    "    filter_df = input_df[input_df['jobtype']==input_df.loc[index,'jobtype']]\n",
    "    key1_val = ','.join(str(v) for v in filter_df['Male'])\n",
    "    key2_val = ','.join(str(v) for v in filter_df['Female'])\n",
    "    jobtypeVal = ','.join(str(v) for v in filter_df['jobtype'])\n",
    " \n",
    "    rs_data = func_getdata(key1 = key1_val, key2 = key2_val, jobtype = jobtypeVal)\n",
    "    rs_data = rs_data.rename(columns={key1_val: \"Male\",key2_val:\"Female\",\"state\": \"State Code\"})\n",
    "    rs_data[\"Total\"] = rs_data[\"Male\"].astype(int) + rs_data[\"Female\"].astype(int)\n",
    "    rs_data = rs_data[[\"State Code\", \"State Name\", \"Type\",\"Male\", \"Female\",\"Total\"]]\n",
    "    rs_data.sort_values('Total', ascending=False).head() \n",
    "    if cnt !=0:\n",
    "        cnt = cnt+1\n",
    "\n",
    "# First time for the header\n",
    "    if cnt == 0:\n",
    "        rs_data.to_csv(\"job_data_output.csv\", encoding=\"utf-8\", index=False)\n",
    "        cnt = cnt + 1 \n",
    "\n",
    "    if cnt > 1:\n",
    "        with open('job_data_output.csv', 'a') as f:\n",
    "            rs_data.to_csv(f, header=False, index=False)\n",
    "\n",
    "print(\"Job Completed\")"
   ]
  },
  {
   "cell_type": "code",
   "execution_count": null,
   "metadata": {},
   "outputs": [],
   "source": []
  }
 ],
 "metadata": {
  "kernelspec": {
   "display_name": "Python 3",
   "language": "python",
   "name": "python3"
  },
  "language_info": {
   "codemirror_mode": {
    "name": "ipython",
    "version": 3
   },
   "file_extension": ".py",
   "mimetype": "text/x-python",
   "name": "python",
   "nbconvert_exporter": "python",
   "pygments_lexer": "ipython3",
   "version": "3.7.4"
  }
 },
 "nbformat": 4,
 "nbformat_minor": 2
}
